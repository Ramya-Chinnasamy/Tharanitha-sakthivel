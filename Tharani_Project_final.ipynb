{
 "cells": [
  {
   "cell_type": "code",
   "execution_count": 2,
   "id": "3f022af4-90cd-42a3-9364-4cb76d50f961",
   "metadata": {},
   "outputs": [
    {
     "name": "stdout",
     "output_type": "stream",
     "text": [
      "\n",
      "Available Categories:\n",
      "1. Grocery_Solid\n",
      "2. Grocery_Liquid\n",
      "3. Soap_Solid\n",
      "4. Soap_Liquid\n",
      "5. Vegetables\n",
      "6. Fruits\n",
      "7. Hygiene_Items\n",
      "0. Finish and Show Selected Items\n"
     ]
    },
    {
     "name": "stdin",
     "output_type": "stream",
     "text": [
      "\n",
      "Select a category (0 to Finish):  1\n"
     ]
    },
    {
     "name": "stdout",
     "output_type": "stream",
     "text": [
      "\n",
      "Available items in Grocery_Solid:\n",
      "1. Rice\n",
      "2. Raw Rice\n",
      "3. Boiled Rice\n",
      "4. Idli Rice\n",
      "5. Ponni Rice\n",
      "6. Basmati Rice\n",
      "7. Wheat Flour\n",
      "8. Maida\n",
      "9. Rava\n",
      "10. Vermicelli\n",
      "11. Poha\n",
      "12. Broken Wheat\n",
      "13. Red Rice\n",
      "14. Black Rice\n",
      "15. Jaggery\n",
      "16. Sugar\n",
      "17. Salt\n",
      "18. Tamarind\n",
      "19. Turmeric Powder\n",
      "20. Red Chilli Powder\n",
      "21. Coriander Powder\n",
      "22. Cumin Powder\n",
      "23. Pepper Powder\n",
      "24. Sambar Powder\n",
      "25. Rasam Powder\n",
      "26. Garam Masala\n",
      "27. Asafoetida\n",
      "28. Mustard Seeds\n",
      "29. Cumin Seeds\n",
      "30. Fenugreek Seeds\n",
      "31. Urad Dal\n",
      "32. Toor Dal\n",
      "33. Moong Dal\n",
      "34. Chana Dal\n",
      "35. Whole Green Gram\n",
      "36. Horse Gram\n",
      "37. Black Urad Dal\n",
      "38. Green Peas (Dry)\n",
      "39. Kabuli Chana\n",
      "40. Black Chana\n",
      "41. Groundnut\n",
      "42. Sesame Seeds\n",
      "43. Dry Coconut\n",
      "44. Dry Red Chillies\n",
      "45. Curry Leaves (Dried)\n",
      "46. Bay Leaves\n",
      "47. Cloves\n",
      "48. Cardamom\n",
      "49. Cinnamon\n",
      "50. Star Anise\n",
      "51. Fennel Seeds\n",
      "52. Coriander Seeds\n"
     ]
    },
    {
     "name": "stdin",
     "output_type": "stream",
     "text": [
      "Choose an item (0 to skip):  32\n",
      "Enter number of units:  2\n",
      "Enter unit (g / kg):  500g\n"
     ]
    },
    {
     "name": "stdout",
     "output_type": "stream",
     "text": [
      "\n",
      "Available Categories:\n",
      "1. Grocery_Solid\n",
      "2. Grocery_Liquid\n",
      "3. Soap_Solid\n",
      "4. Soap_Liquid\n",
      "5. Vegetables\n",
      "6. Fruits\n",
      "7. Hygiene_Items\n",
      "0. Finish and Show Selected Items\n"
     ]
    },
    {
     "name": "stdin",
     "output_type": "stream",
     "text": [
      "\n",
      "Select a category (0 to Finish):  2\n"
     ]
    },
    {
     "name": "stdout",
     "output_type": "stream",
     "text": [
      "\n",
      "Available items in Grocery_Liquid:\n",
      "1. Milk\n",
      "2. Curd\n",
      "3. Butter\n",
      "4. Ghee\n",
      "5. Coconut Oil\n",
      "6. Gingelly Oil\n",
      "7. Groundnut Oil\n",
      "8. Sunflower Oil\n",
      "9. Palm Oil\n",
      "10. Mustard Oil\n",
      "11. Castor Oil\n",
      "12. Olive Oil\n"
     ]
    },
    {
     "name": "stdin",
     "output_type": "stream",
     "text": [
      "Choose an item (0 to skip):  6\n",
      "Enter number of units:  2\n",
      "Enter unit (ml / L):  1L\n"
     ]
    },
    {
     "name": "stdout",
     "output_type": "stream",
     "text": [
      "\n",
      "Available Categories:\n",
      "1. Grocery_Solid\n",
      "2. Grocery_Liquid\n",
      "3. Soap_Solid\n",
      "4. Soap_Liquid\n",
      "5. Vegetables\n",
      "6. Fruits\n",
      "7. Hygiene_Items\n",
      "0. Finish and Show Selected Items\n"
     ]
    },
    {
     "name": "stdin",
     "output_type": "stream",
     "text": [
      "\n",
      "Select a category (0 to Finish):  3\n"
     ]
    },
    {
     "name": "stdout",
     "output_type": "stream",
     "text": [
      "\n",
      "Available items in Soap_Solid:\n",
      "1. Bath Soap\n",
      "2. Washing Bar\n",
      "3. Detergent Cake\n",
      "4. Dish Wash Bar\n",
      "5. Medicated Soap\n",
      "6. Herbal Soap\n",
      "7. Neem Soap\n",
      "8. Sandal Soap\n",
      "9. Turmeric Soap\n",
      "10. Charcoal Soap\n",
      "11. Beauty Soap\n",
      "12. Ayurvedic Soap\n",
      "13. Baby Soap\n",
      "14. Sulphur Soap\n",
      "15. Dettol Soap\n",
      "16. Antifungal Soap\n",
      "17. Transparent Soap\n",
      "18. Laundry Soap\n",
      "19. Handcrafted Herbal Soap\n",
      "20. Shaving Soap\n",
      "21. Shaving Stick\n"
     ]
    },
    {
     "name": "stdin",
     "output_type": "stream",
     "text": [
      "Choose an item (0 to skip):  2\n",
      "Enter number of units:  2\n"
     ]
    },
    {
     "name": "stdout",
     "output_type": "stream",
     "text": [
      "\n",
      "Available Categories:\n",
      "1. Grocery_Solid\n",
      "2. Grocery_Liquid\n",
      "3. Soap_Solid\n",
      "4. Soap_Liquid\n",
      "5. Vegetables\n",
      "6. Fruits\n",
      "7. Hygiene_Items\n",
      "0. Finish and Show Selected Items\n"
     ]
    },
    {
     "name": "stdin",
     "output_type": "stream",
     "text": [
      "\n",
      "Select a category (0 to Finish):  4\n"
     ]
    },
    {
     "name": "stdout",
     "output_type": "stream",
     "text": [
      "\n",
      "Available items in Soap_Liquid:\n",
      "1. Shampoo\n",
      "2. Conditioner\n",
      "3. Handwash Liquid\n",
      "4. Liquid Detergent\n",
      "5. Dish Wash Liquid\n",
      "6. Floor Cleaner Liquid\n",
      "7. Toilet Cleaner Liquid\n",
      "8. Glass Cleaner Liquid\n",
      "9. Body Wash\n",
      "10. Face Wash\n",
      "11. Hair Serum\n",
      "12. Shaving Cream\n",
      "13. Shaving Foam\n",
      "14. After Shave Lotion\n",
      "15. Sanitizer (Liquid)\n",
      "16. Baby Shampoo\n",
      "17. Body Lotion\n",
      "18. Liquid Soap\n",
      "19. Moisturizing Lotion\n",
      "20. Liquid Hand Sanitizer\n",
      "21. Beard Wash\n"
     ]
    },
    {
     "name": "stdin",
     "output_type": "stream",
     "text": [
      "Choose an item (0 to skip):  12\n",
      "Enter number of units:  1\n",
      "Enter unit (ml / L):  200ml\n"
     ]
    },
    {
     "name": "stdout",
     "output_type": "stream",
     "text": [
      "\n",
      "Available Categories:\n",
      "1. Grocery_Solid\n",
      "2. Grocery_Liquid\n",
      "3. Soap_Solid\n",
      "4. Soap_Liquid\n",
      "5. Vegetables\n",
      "6. Fruits\n",
      "7. Hygiene_Items\n",
      "0. Finish and Show Selected Items\n"
     ]
    },
    {
     "name": "stdin",
     "output_type": "stream",
     "text": [
      "\n",
      "Select a category (0 to Finish):  5\n"
     ]
    },
    {
     "name": "stdout",
     "output_type": "stream",
     "text": [
      "\n",
      "Available items in Vegetables:\n",
      "1. Onion\n",
      "2. Tomato\n",
      "3. Potato\n",
      "4. Brinjal\n",
      "5. Drumstick\n",
      "6. Beans\n",
      "7. Carrot\n",
      "8. Radish\n",
      "9. Pumpkin\n",
      "10. Snake Gourd\n",
      "11. Cabbage\n",
      "12. Cauliflower\n",
      "13. Bitter Gourd\n",
      "14. Ladyfinger\n",
      "15. Spinach\n",
      "16. Coriander Leaves\n",
      "17. Curry Leaves\n",
      "18. Mint Leaves\n",
      "19. Green Chilli\n",
      "20. Ginger\n",
      "21. Garlic\n",
      "22. Capsicum\n",
      "23. Bottle Gourd\n",
      "24. Ash Gourd\n",
      "25. Beetroot\n",
      "26. Broad Beans\n",
      "27. Cluster Beans\n",
      "28. Banana Stem\n",
      "29. Banana Flower\n",
      "30. Turnip\n",
      "31. Yam\n",
      "32. Raw Banana\n",
      "33. Sweet Potato\n",
      "34. Tapioca\n",
      "35. Colocasia\n",
      "36. Mushroom\n",
      "37. Spring Onion\n",
      "38. Cucumber\n",
      "39. Ridge Gourd\n",
      "40. Ivy Gourd\n",
      "41. Snake Beans\n",
      "42. Flat Beans\n",
      "43. Avarekai\n",
      "44. Knol Khol\n",
      "45. Green Beans\n",
      "46. Raw Mango\n",
      "47. Drumstick Leaves\n",
      "48. Amaranthus\n",
      "49. Radish Leaves\n",
      "50. Fenugreek Leaves\n",
      "51. Cabbage Leaves\n",
      "52. Curry Stem\n"
     ]
    },
    {
     "name": "stdin",
     "output_type": "stream",
     "text": [
      "Choose an item (0 to skip):  13\n",
      "Enter number of units:  1\n",
      "Enter unit (g / kg):  250gm\n"
     ]
    },
    {
     "name": "stdout",
     "output_type": "stream",
     "text": [
      "\n",
      "Available Categories:\n",
      "1. Grocery_Solid\n",
      "2. Grocery_Liquid\n",
      "3. Soap_Solid\n",
      "4. Soap_Liquid\n",
      "5. Vegetables\n",
      "6. Fruits\n",
      "7. Hygiene_Items\n",
      "0. Finish and Show Selected Items\n"
     ]
    },
    {
     "name": "stdin",
     "output_type": "stream",
     "text": [
      "\n",
      "Select a category (0 to Finish):  0\n"
     ]
    },
    {
     "name": "stdout",
     "output_type": "stream",
     "text": [
      "\n",
      "===== Final Selected Items =====\n",
      "Toor Dal - 2 500g\n",
      "Gingelly Oil - 2 1L\n",
      "Washing Bar - 2 pieces\n",
      "Shaving Cream - 1 200ml\n",
      "Bitter Gourd - 1 250gm\n"
     ]
    },
    {
     "data": {
      "image/png": "[encoded data removed]",
      "text/plain": [
       "<Figure size 1000x500 with 1 Axes>"
      ]
     },
     "metadata": {},
     "output_type": "display_data"
    }
   ],
   "source": [
    "import pandas as pd\n",
    "import matplotlib.pyplot as plt\n",
    "\n",
    "# Load CSV file\n",
    "df = pd.read_csv(\"all_items_expanded.csv\")\n",
    "\n",
    "# Categories in the CSV\n",
    "categories = df.columns.tolist()\n",
    "\n",
    "# Store selected items\n",
    "selected_items = []\n",
    "\n",
    "def show_menu():\n",
    "    print(\"\\nAvailable Categories:\")\n",
    "    for i, cat in enumerate(categories, start=1):\n",
    "        print(f\"{i}. {cat}\")\n",
    "    print(\"0. Finish and Show Selected Items\")\n",
    "\n",
    "def select_items():\n",
    "    while True:\n",
    "        show_menu()\n",
    "        choice = int(input(\"\\nSelect a category (0 to Finish): \"))\n",
    "\n",
    "        if choice == 0:\n",
    "            break\n",
    "\n",
    "        category = categories[choice - 1]\n",
    "        items = df[category].dropna().tolist()\n",
    "\n",
    "        print(f\"\\nAvailable items in {category}:\")\n",
    "        for i, item in enumerate(items, start=1):\n",
    "            print(f\"{i}. {item}\")\n",
    "\n",
    "        item_choice = int(input(\"Choose an item (0 to skip): \"))\n",
    "        if item_choice == 0:\n",
    "            continue\n",
    "\n",
    "        item_name = items[item_choice - 1]\n",
    "\n",
    "        quantity = int(input(\"Enter number of units: \"))\n",
    "\n",
    "        # Units based on category\n",
    "        if \"Liquid\" in category:\n",
    "            unit = input(\"Enter unit (ml / L): \")\n",
    "        elif \"Soap\" in category or \"Hygiene\" in category:\n",
    "            unit = \"pieces\"\n",
    "        else:\n",
    "            unit = input(\"Enter unit (g / kg): \")\n",
    "\n",
    "        selected_items.append((item_name, quantity, unit))\n",
    "\n",
    "def show_selected_items():\n",
    "    print(\"\\n===== Final Selected Items =====\")\n",
    "    for item, qty, unit in selected_items:\n",
    "        print(f\"{item} - {qty} {unit}\")\n",
    "\n",
    "    # Plot a simple graph\n",
    "    if selected_items:\n",
    "        item_names = [item for item, _, _ in selected_items]\n",
    "        quantities = [qty for _, qty, _ in selected_items]\n",
    "\n",
    "        plt.figure(figsize=(10,5))\n",
    "        plt.bar(item_names, quantities)\n",
    "        plt.xticks(rotation=45, ha=\"right\")\n",
    "        plt.title(\"Selected Items Quantity\")\n",
    "        plt.xlabel(\"Items\")\n",
    "        plt.ylabel(\"Quantity\")\n",
    "        plt.tight_layout()\n",
    "        plt.show()\n",
    "\n",
    "# Run the program\n",
    "select_items()\n",
    "show_selected_items()\n"
   ]
  },
  {
   "cell_type": "code",
   "execution_count": null,
   "id": "e054793d-9c9c-4a54-bab1-5fc0be402e0b",
   "metadata": {},
   "outputs": [],
   "source": []
  }
 ],
 "metadata": {
  "kernelspec": {
   "display_name": "Python 3 (ipykernel)",
   "language": "python",
   "name": "python3"
  },
  "language_info": {
   "codemirror_mode": {
    "name": "ipython",
    "version": 3
   },
   "file_extension": ".py",
   "mimetype": "text/x-python",
   "name": "python",
   "nbconvert_exporter": "python",
   "pygments_lexer": "ipython3",
   "version": "3.10.9"
  }
 },
 "nbformat": 4,
 "nbformat_minor": 5
}
