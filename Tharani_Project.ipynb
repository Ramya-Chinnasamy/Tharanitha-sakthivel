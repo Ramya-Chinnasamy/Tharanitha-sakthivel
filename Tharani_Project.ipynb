{
 "cells": [
  {
   "cell_type": "code",
   "execution_count": 1,
   "id": "82e1d67b-0036-4686-93ed-09ffba40cb3f",
   "metadata": {},
   "outputs": [
    {
     "name": "stdout",
     "output_type": "stream",
     "text": [
      "===== Grocery & Soap Tracker =====\n",
      "\n",
      "Select a category:\n",
      "1. Grocery - Solid Items\n",
      "2. Grocery - Liquid Items\n",
      "3. Soap - Solid Items\n",
      "4. Soap - Liquid Items\n",
      "5. Finish and Show List\n"
     ]
    },
    {
     "name": "stdin",
     "output_type": "stream",
     "text": [
      "Enter choice:  1\n"
     ]
    },
    {
     "name": "stdout",
     "output_type": "stream",
     "text": [
      "\n",
      "Grocery Solid Items:\n",
      "1. Rice\n",
      "2. Wheat\n",
      "3. Sugar\n",
      "4. Salt\n"
     ]
    },
    {
     "name": "stdin",
     "output_type": "stream",
     "text": [
      "Select item number:  1\n",
      "Enter quantity in grams/kg (example: 500g or 2kg):  10kg\n",
      "Enter number of packets:  1\n"
     ]
    },
    {
     "name": "stdout",
     "output_type": "stream",
     "text": [
      "\n",
      "Select a category:\n",
      "1. Grocery - Solid Items\n",
      "2. Grocery - Liquid Items\n",
      "3. Soap - Solid Items\n",
      "4. Soap - Liquid Items\n",
      "5. Finish and Show List\n"
     ]
    },
    {
     "name": "stdin",
     "output_type": "stream",
     "text": [
      "Enter choice:  1\n"
     ]
    },
    {
     "name": "stdout",
     "output_type": "stream",
     "text": [
      "\n",
      "Grocery Solid Items:\n",
      "1. Rice\n",
      "2. Wheat\n",
      "3. Sugar\n",
      "4. Salt\n"
     ]
    },
    {
     "name": "stdin",
     "output_type": "stream",
     "text": [
      "Select item number:  4\n",
      "Enter quantity in grams/kg (example: 500g or 2kg):  1kg\n",
      "Enter number of packets:  2\n"
     ]
    },
    {
     "name": "stdout",
     "output_type": "stream",
     "text": [
      "\n",
      "Select a category:\n",
      "1. Grocery - Solid Items\n",
      "2. Grocery - Liquid Items\n",
      "3. Soap - Solid Items\n",
      "4. Soap - Liquid Items\n",
      "5. Finish and Show List\n"
     ]
    },
    {
     "name": "stdin",
     "output_type": "stream",
     "text": [
      "Enter choice:  2\n"
     ]
    },
    {
     "name": "stdout",
     "output_type": "stream",
     "text": [
      "\n",
      "Grocery Liquid Items:\n",
      "1. Milk\n",
      "2. Oil\n"
     ]
    },
    {
     "name": "stdin",
     "output_type": "stream",
     "text": [
      "Select item number:  2\n",
      "Enter quantity in ml/liters (example: 500ml or 1L):  200ml\n",
      "Enter number of bottles:  1\n"
     ]
    },
    {
     "name": "stdout",
     "output_type": "stream",
     "text": [
      "\n",
      "Select a category:\n",
      "1. Grocery - Solid Items\n",
      "2. Grocery - Liquid Items\n",
      "3. Soap - Solid Items\n",
      "4. Soap - Liquid Items\n",
      "5. Finish and Show List\n"
     ]
    },
    {
     "name": "stdin",
     "output_type": "stream",
     "text": [
      "Enter choice:  4\n"
     ]
    },
    {
     "name": "stdout",
     "output_type": "stream",
     "text": [
      "\n",
      "Soap Liquid Items:\n",
      "1. Shampoo\n",
      "2. Handwash\n"
     ]
    },
    {
     "name": "stdin",
     "output_type": "stream",
     "text": [
      "Select item number:  1\n",
      "Enter quantity in ml/liters (example: 200ml or 1L):  200ml\n",
      "Enter number of bottles:  1\n"
     ]
    },
    {
     "name": "stdout",
     "output_type": "stream",
     "text": [
      "\n",
      "Select a category:\n",
      "1. Grocery - Solid Items\n",
      "2. Grocery - Liquid Items\n",
      "3. Soap - Solid Items\n",
      "4. Soap - Liquid Items\n",
      "5. Finish and Show List\n"
     ]
    },
    {
     "name": "stdin",
     "output_type": "stream",
     "text": [
      "Enter choice:  5\n"
     ]
    },
    {
     "name": "stdout",
     "output_type": "stream",
     "text": [
      "\n",
      "===== Final List =====\n",
      "Rice - 10kg - 1 pack(s)\n",
      "Salt - 1kg - 2 pack(s)\n",
      "Oil - 200ml - 1 pack(s)\n",
      "Shampoo - 200ml - 1 pack(s)\n",
      "Thank you for using Grocery & Soap Tracker!\n"
     ]
    }
   ],
   "source": [
    "# Grocery & Soap Tracker Project (Class 12 - Simple Version)\n",
    "\n",
    "# Categories\n",
    "grocery_solid = [\"Rice\", \"Wheat\", \"Sugar\", \"Salt\"]\n",
    "grocery_liquid = [\"Milk\", \"Oil\"]\n",
    "soap_solid = [\"Bath Soap\", \"Washing Bar\"]\n",
    "soap_liquid = [\"Shampoo\", \"Handwash\"]\n",
    "\n",
    "# Store final selections\n",
    "final_list = []\n",
    "\n",
    "print(\"===== Grocery & Soap Tracker =====\")\n",
    "\n",
    "while True:\n",
    "    print(\"\\nSelect a category:\")\n",
    "    print(\"1. Grocery - Solid Items\")\n",
    "    print(\"2. Grocery - Liquid Items\")\n",
    "    print(\"3. Soap - Solid Items\")\n",
    "    print(\"4. Soap - Liquid Items\")\n",
    "    print(\"5. Finish and Show List\")\n",
    "\n",
    "    choice = input(\"Enter choice: \")\n",
    "\n",
    "    if choice == \"1\":\n",
    "        print(\"\\nGrocery Solid Items:\")\n",
    "        for i, item in enumerate(grocery_solid, 1):\n",
    "            print(f\"{i}. {item}\")\n",
    "        sel = int(input(\"Select item number: \")) - 1\n",
    "        qty = input(\"Enter quantity in grams/kg (example: 500g or 2kg): \")\n",
    "        num = int(input(\"Enter number of packets: \"))\n",
    "        final_list.append((grocery_solid[sel], qty, num))\n",
    "\n",
    "    elif choice == \"2\":\n",
    "        print(\"\\nGrocery Liquid Items:\")\n",
    "        for i, item in enumerate(grocery_liquid, 1):\n",
    "            print(f\"{i}. {item}\")\n",
    "        sel = int(input(\"Select item number: \")) - 1\n",
    "        qty = input(\"Enter quantity in ml/liters (example: 500ml or 1L): \")\n",
    "        num = int(input(\"Enter number of bottles: \"))\n",
    "        final_list.append((grocery_liquid[sel], qty, num))\n",
    "\n",
    "    elif choice == \"3\":\n",
    "        print(\"\\nSoap Solid Items:\")\n",
    "        for i, item in enumerate(soap_solid, 1):\n",
    "            print(f\"{i}. {item}\")\n",
    "        sel = int(input(\"Select item number: \")) - 1\n",
    "        qty = input(\"Enter quantity (example: 1 piece or 3 pieces): \")\n",
    "        num = int(input(\"Enter number of packs: \"))\n",
    "        final_list.append((soap_solid[sel], qty, num))\n",
    "\n",
    "    elif choice == \"4\":\n",
    "        print(\"\\nSoap Liquid Items:\")\n",
    "        for i, item in enumerate(soap_liquid, 1):\n",
    "            print(f\"{i}. {item}\")\n",
    "        sel = int(input(\"Select item number: \")) - 1\n",
    "        qty = input(\"Enter quantity in ml/liters (example: 200ml or 1L): \")\n",
    "        num = int(input(\"Enter number of bottles: \"))\n",
    "        final_list.append((soap_liquid[sel], qty, num))\n",
    "\n",
    "    elif choice == \"5\":\n",
    "        print(\"\\n===== Final List =====\")\n",
    "        for item, qty, num in final_list:\n",
    "            print(f\"{item} - {qty} - {num} pack(s)\")\n",
    "        print(\"Thank you for using Grocery & Soap Tracker!\")\n",
    "        break\n",
    "\n",
    "    else:\n",
    "        print(\"Invalid choice! Try again.\")\n"
   ]
  },
  {
   "cell_type": "code",
   "execution_count": null,
   "id": "23e7dd36-83b7-491f-a07c-0515e6076857",
   "metadata": {},
   "outputs": [],
   "source": []
  }
 ],
 "metadata": {
  "kernelspec": {
   "display_name": "Python 3 (ipykernel)",
   "language": "python",
   "name": "python3"
  },
  "language_info": {
   "codemirror_mode": {
    "name": "ipython",
    "version": 3
   },
   "file_extension": ".py",
   "mimetype": "text/x-python",
   "name": "python",
   "nbconvert_exporter": "python",
   "pygments_lexer": "ipython3",
   "version": "3.10.9"
  }
 },
 "nbformat": 4,
 "nbformat_minor": 5
}
